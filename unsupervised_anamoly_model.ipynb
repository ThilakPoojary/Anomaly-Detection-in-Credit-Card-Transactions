{
 "cells": [
  {
   "cell_type": "code",
   "execution_count": 35,
   "id": "409dff44-aa5c-4106-be20-5ad43d0a5305",
   "metadata": {},
   "outputs": [],
   "source": [
    "import pandas as pd\n",
    "import numpy as np\n",
    "import os\n",
    "import joblib"
   ]
  },
  {
   "cell_type": "code",
   "execution_count": 36,
   "id": "1c2b9f41-216b-4e15-933d-a9af87b03fee",
   "metadata": {},
   "outputs": [],
   "source": [
    "from sklearn.impute import SimpleImputer\n",
    "from sklearn.preprocessing import StandardScaler\n",
    "from sklearn.ensemble import IsolationForest\n",
    "from sklearn.pipeline import Pipeline"
   ]
  },
  {
   "cell_type": "code",
   "execution_count": 37,
   "id": "2670f94e-4468-43bc-ac61-aa1824b66d41",
   "metadata": {},
   "outputs": [],
   "source": [
    "MODEL_FILE=\"model.pkl\"\n",
    "PIPELINE_FILE=\"pipeline.pkl\""
   ]
  },
  {
   "cell_type": "code",
   "execution_count": 38,
   "id": "c83f254d-7117-4b12-b8a6-7ef7f25cdaca",
   "metadata": {},
   "outputs": [],
   "source": [
    "def build_pipeline(data):\n",
    "    data_pip=Pipeline([\n",
    "        (\"impute\",SimpleImputer(strategy=\"median\")),\n",
    "        (\"scalar\",StandardScaler())\n",
    "    ])\n",
    "\n",
    "    return data_pip"
   ]
  },
  {
   "cell_type": "code",
   "execution_count": 39,
   "id": "adf22ba2-887c-4d05-b91c-a171271a837a",
   "metadata": {},
   "outputs": [
    {
     "name": "stdout",
     "output_type": "stream",
     "text": [
      "<<<<<-----Model Trained Successfully----->>>>>\n"
     ]
    }
   ],
   "source": [
    "if not os.path.exists(MODEL_FILE):\n",
    "    data=pd.read_csv(\"creditcard.csv\")\n",
    "\n",
    "    data1=data.copy()\n",
    "    data.to_csv(\"input.csv\",index=False)\n",
    "\n",
    "    pipeline=build_pipeline(data1)\n",
    "\n",
    "    data_prepared=pipeline.fit_transform(data)\n",
    "\n",
    "    model=IsolationForest(contamination=0.05,random_state=42)\n",
    "\n",
    "    model.fit(data_prepared)\n",
    "\n",
    "    joblib.dump(model,MODEL_FILE)\n",
    "    joblib.dump(pipeline,PIPELINE_FILE)\n",
    "\n",
    "else:\n",
    "    model=joblib.load(MODEL_FILE)\n",
    "    pipeline=joblib.load(PIPELINE_FILE)\n",
    "\n",
    "input_data=pd.read_csv(\"input.csv\")\n",
    "\n",
    "input_prepared=pipeline.transform(input_data)\n",
    "\n",
    "prediction=model.predict(input_prepared)\n",
    "input_data['Anamoly']=np.where(prediction==-1,'Fraudlent','Normal')\n",
    "\n",
    "input_data.to_csv(\"output.csv\",index=False)\n",
    "\n",
    "print(\"<<<<<-----Model Trained Successfully----->>>>>\")\n",
    "    \n",
    "\n",
    "    \n",
    "    \n",
    "\n",
    "    "
   ]
  },
  {
   "cell_type": "code",
   "execution_count": null,
   "id": "b16b3c91-c029-49f1-96d2-9db6691c8fa5",
   "metadata": {},
   "outputs": [],
   "source": []
  },
  {
   "cell_type": "code",
   "execution_count": null,
   "id": "5a9f9805-1baf-46f9-89ce-2175805b3ccc",
   "metadata": {},
   "outputs": [],
   "source": []
  }
 ],
 "metadata": {
  "kernelspec": {
   "display_name": "Python [conda env:base] *",
   "language": "python",
   "name": "conda-base-py"
  },
  "language_info": {
   "codemirror_mode": {
    "name": "ipython",
    "version": 3
   },
   "file_extension": ".py",
   "mimetype": "text/x-python",
   "name": "python",
   "nbconvert_exporter": "python",
   "pygments_lexer": "ipython3",
   "version": "3.10.18"
  }
 },
 "nbformat": 4,
 "nbformat_minor": 5
}
